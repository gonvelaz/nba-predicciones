{
 "cells": [
  {
   "cell_type": "code",
   "execution_count": 1,
   "metadata": {},
   "outputs": [],
   "source": [
    "import os\n",
    "from bs4 import BeautifulSoup\n",
    "from selenium import webdriver\n",
    "from selenium.common.exceptions import TimeoutException\n",
    "from webdriver_manager.chrome import ChromeDriverManager\n",
    "import time"
   ]
  },
  {
   "cell_type": "code",
   "execution_count": 2,
   "metadata": {},
   "outputs": [],
   "source": [
    "seasons = list(range(2016,2023))"
   ]
  },
  {
   "cell_type": "code",
   "execution_count": 3,
   "metadata": {},
   "outputs": [],
   "source": [
    "data_dir = \"data\"\n",
    "standings_dir = os.path.join(data_dir, \"standings\")\n",
    "scores_dir = os.path.join(data_dir, \"scores\")"
   ]
  },
  {
   "cell_type": "code",
   "execution_count": 4,
   "metadata": {},
   "outputs": [],
   "source": [
    "def get_html(url, selector, sleep=2, retries=3):\n",
    "    html = None\n",
    "    for i in range(1, retries + 1):\n",
    "        time.sleep(sleep * i)\n",
    "\n",
    "        try:\n",
    "            driver = webdriver.Chrome(ChromeDriverManager().install())\n",
    "            driver.get(url)\n",
    "            print(driver.title)\n",
    "            page_source = driver.page_source\n",
    "            soup = BeautifulSoup(page_source, 'html.parser')\n",
    "            html = soup.select_one(selector)\n",
    "            driver.quit()\n",
    "        except TimeoutException:\n",
    "            print(f\"Timeout error on {url}\")\n",
    "            driver.quit()\n",
    "            continue\n",
    "        else:\n",
    "            break\n",
    "\n",
    "    return html"
   ]
  },
  {
   "cell_type": "code",
   "execution_count": 5,
   "metadata": {},
   "outputs": [],
   "source": [
    "def scrape_season(season):\n",
    "    url = f\"https://www.basketball-reference.com/leagues/NBA_{season}_games.html\"\n",
    "    html = get_html(url, '.filter')\n",
    "    links = html.find_all(\"a\")\n",
    "    href = [l['href'] for l in links]\n",
    "    standings_pages = [f\"https://basketball-reference.com{l}\" for l in href]\n",
    "\n",
    "    for url in standings_pages:\n",
    "        save_path = os.path.join(standings_dir, url.split(\"/\")[-1])\n",
    "        if os.path.exists(save_path):\n",
    "            continue\n",
    "\n",
    "        html = get_html(url, \"#all_schedule\")\n",
    "        with open(save_path, \"w+\") as f:\n",
    "            f.write(str(html))"
   ]
  },
  {
   "cell_type": "code",
   "execution_count": 7,
   "metadata": {},
   "outputs": [
    {
     "name": "stderr",
     "output_type": "stream",
     "text": [
      "C:\\Users\\gonzalo.velazquez\\AppData\\Local\\Temp\\ipykernel_121948\\3475900239.py:7: DeprecationWarning: executable_path has been deprecated, please pass in a Service object\n",
      "  driver = webdriver.Chrome(ChromeDriverManager().install())\n"
     ]
    },
    {
     "name": "stdout",
     "output_type": "stream",
     "text": [
      "2015-16 NBA Schedule | Basketball-Reference.com\n",
      "2016-17 NBA Schedule | Basketball-Reference.com\n",
      "2017-18 NBA Schedule | Basketball-Reference.com\n",
      "2018-19 NBA Schedule | Basketball-Reference.com\n"
     ]
    },
    {
     "ename": "KeyboardInterrupt",
     "evalue": "",
     "output_type": "error",
     "traceback": [
      "\u001b[1;31m---------------------------------------------------------------------------\u001b[0m",
      "\u001b[1;31mKeyboardInterrupt\u001b[0m                         Traceback (most recent call last)",
      "Cell \u001b[1;32mIn[7], line 2\u001b[0m\n\u001b[0;32m      1\u001b[0m \u001b[39mfor\u001b[39;00m season \u001b[39min\u001b[39;00m seasons:\n\u001b[1;32m----> 2\u001b[0m     scrape_season(season)\n",
      "Cell \u001b[1;32mIn[6], line 3\u001b[0m, in \u001b[0;36mscrape_season\u001b[1;34m(season)\u001b[0m\n\u001b[0;32m      1\u001b[0m \u001b[39mdef\u001b[39;00m \u001b[39mscrape_season\u001b[39m(season):\n\u001b[0;32m      2\u001b[0m     url \u001b[39m=\u001b[39m \u001b[39mf\u001b[39m\u001b[39m\"\u001b[39m\u001b[39mhttps://www.basketball-reference.com/leagues/NBA_\u001b[39m\u001b[39m{\u001b[39;00mseason\u001b[39m}\u001b[39;00m\u001b[39m_games.html\u001b[39m\u001b[39m\"\u001b[39m\n\u001b[1;32m----> 3\u001b[0m     html \u001b[39m=\u001b[39m get_html(url, \u001b[39m'\u001b[39;49m\u001b[39m.filter\u001b[39;49m\u001b[39m'\u001b[39;49m)\n\u001b[0;32m      4\u001b[0m     links \u001b[39m=\u001b[39m html\u001b[39m.\u001b[39mfind_all(\u001b[39m\"\u001b[39m\u001b[39ma\u001b[39m\u001b[39m\"\u001b[39m)\n\u001b[0;32m      5\u001b[0m     href \u001b[39m=\u001b[39m [l[\u001b[39m'\u001b[39m\u001b[39mhref\u001b[39m\u001b[39m'\u001b[39m] \u001b[39mfor\u001b[39;00m l \u001b[39min\u001b[39;00m links]\n",
      "Cell \u001b[1;32mIn[5], line 4\u001b[0m, in \u001b[0;36mget_html\u001b[1;34m(url, selector, sleep, retries)\u001b[0m\n\u001b[0;32m      2\u001b[0m html \u001b[39m=\u001b[39m \u001b[39mNone\u001b[39;00m\n\u001b[0;32m      3\u001b[0m \u001b[39mfor\u001b[39;00m i \u001b[39min\u001b[39;00m \u001b[39mrange\u001b[39m(\u001b[39m1\u001b[39m, retries \u001b[39m+\u001b[39m \u001b[39m1\u001b[39m):\n\u001b[1;32m----> 4\u001b[0m     time\u001b[39m.\u001b[39;49msleep(sleep \u001b[39m*\u001b[39;49m i)\n\u001b[0;32m      6\u001b[0m     \u001b[39mtry\u001b[39;00m:\n\u001b[0;32m      7\u001b[0m         driver \u001b[39m=\u001b[39m webdriver\u001b[39m.\u001b[39mChrome(ChromeDriverManager()\u001b[39m.\u001b[39minstall())\n",
      "\u001b[1;31mKeyboardInterrupt\u001b[0m: "
     ]
    }
   ],
   "source": [
    "for season in seasons:\n",
    "    scrape_season(season)"
   ]
  },
  {
   "cell_type": "code",
   "execution_count": 6,
   "metadata": {},
   "outputs": [],
   "source": [
    "standings_files = os.listdir(standings_dir)"
   ]
  },
  {
   "cell_type": "code",
   "execution_count": 7,
   "metadata": {},
   "outputs": [],
   "source": [
    "def scrape_game(standings_file):\n",
    "    with open(standings_file, 'r') as f:\n",
    "        html = f.read()\n",
    "\n",
    "    soup = BeautifulSoup(html)\n",
    "    links = soup.find_all(\"a\")\n",
    "    hrefs = [l.get(\"href\") for l in links]\n",
    "    box_scores = [l for l in hrefs if l and \"boxscore\" in l and \".html\" in l]\n",
    "    box_scores = [f\"https://www.basketball-reference.com{l}\" for l in box_scores]\n",
    "\n",
    "    for url in box_scores:\n",
    "        save_path = os.path.join(scores_dir, url.split(\"/\")[-1])\n",
    "        if os.path.exists(save_path):\n",
    "            continue\n",
    "\n",
    "        html = get_html(url, \"#content\")\n",
    "\n",
    "        if not html:\n",
    "            continue\n",
    "        with open(save_path, \"w+\") as f:\n",
    "            f.write(str(html))"
   ]
  },
  {
   "cell_type": "code",
   "execution_count": 9,
   "metadata": {},
   "outputs": [
    {
     "name": "stderr",
     "output_type": "stream",
     "text": [
      "C:\\Users\\gonve\\AppData\\Local\\Temp\\ipykernel_45984\\3475900239.py:7: DeprecationWarning: executable_path has been deprecated, please pass in a Service object\n",
      "  driver = webdriver.Chrome(ChromeDriverManager().install())\n"
     ]
    },
    {
     "name": "stdout",
     "output_type": "stream",
     "text": [
      "Spurs vs Nets, May 12, 2021 | Basketball-Reference.com\n",
      "Knicks vs Hawks, November 27, 2021 | Basketball-Reference.com\n",
      "Suns vs Nets, November 27, 2021 | Basketball-Reference.com\n",
      "Heat vs Bulls, November 27, 2021 | Basketball-Reference.com\n",
      "Magic vs Cavaliers, November 27, 2021 | Basketball-Reference.com\n",
      "Hornets vs Rockets, November 27, 2021 | Basketball-Reference.com\n",
      "Wizards vs Mavericks, November 27, 2021 | Basketball-Reference.com\n",
      "Pelicans vs Jazz, November 27, 2021 | Basketball-Reference.com\n",
      "Warriors vs Clippers, November 28, 2021 | Basketball-Reference.com\n",
      "Bucks vs Pacers, November 28, 2021 | Basketball-Reference.com\n",
      "Kings vs Grizzlies, November 28, 2021 | Basketball-Reference.com\n",
      "Celtics vs Raptors, November 28, 2021 | Basketball-Reference.com\n",
      "Pistons vs Lakers, November 28, 2021 | Basketball-Reference.com\n",
      "Magic vs 76ers, November 29, 2021 | Basketball-Reference.com\n",
      "Nuggets vs Heat, November 29, 2021 | Basketball-Reference.com\n",
      "Hornets vs Bulls, November 29, 2021 | Basketball-Reference.com\n",
      "Thunder vs Rockets, November 29, 2021 | Basketball-Reference.com\n",
      "Pacers vs Timberwolves, November 29, 2021 | Basketball-Reference.com\n",
      "Cavaliers vs Mavericks, November 29, 2021 | Basketball-Reference.com\n",
      "Wizards vs Spurs, November 29, 2021 | Basketball-Reference.com\n",
      "Trail Blazers vs Jazz, November 29, 2021 | Basketball-Reference.com\n",
      "Pelicans vs Clippers, November 29, 2021 | Basketball-Reference.com\n",
      "Knicks vs Nets, November 30, 2021 | Basketball-Reference.com\n",
      "Grizzlies vs Raptors, November 30, 2021 | Basketball-Reference.com\n",
      "Warriors vs Suns, November 30, 2021 | Basketball-Reference.com\n",
      "Pistons vs Trail Blazers, November 30, 2021 | Basketball-Reference.com\n",
      "Lakers vs Kings, November 30, 2021 | Basketball-Reference.com\n",
      "Nets vs Bucks, October 19, 2021 | Basketball-Reference.com\n",
      "Warriors vs Lakers, October 19, 2021 | Basketball-Reference.com\n",
      "Pacers vs Hornets, October 20, 2021 | Basketball-Reference.com\n",
      "Bulls vs Pistons, October 20, 2021 | Basketball-Reference.com\n",
      "Celtics vs Knicks, October 20, 2021 | Basketball-Reference.com\n",
      "Wizards vs Raptors, October 20, 2021 | Basketball-Reference.com\n",
      "Cavaliers vs Grizzlies, October 20, 2021 | Basketball-Reference.com\n",
      "Rockets vs Timberwolves, October 20, 2021 | Basketball-Reference.com\n",
      "76ers vs Pelicans, October 20, 2021 | Basketball-Reference.com\n",
      "Magic vs Spurs, October 20, 2021 | Basketball-Reference.com\n",
      "Thunder vs Jazz, October 20, 2021 | Basketball-Reference.com\n",
      "Kings vs Trail Blazers, October 20, 2021 | Basketball-Reference.com\n",
      "Nuggets vs Suns, October 20, 2021 | Basketball-Reference.com\n",
      "Mavericks vs Hawks, October 21, 2021 | Basketball-Reference.com\n",
      "Bucks vs Heat, October 21, 2021 | Basketball-Reference.com\n",
      "Clippers vs Warriors, October 21, 2021 | Basketball-Reference.com\n",
      "Knicks vs Magic, October 22, 2021 | Basketball-Reference.com\n",
      "Pacers vs Wizards, October 22, 2021 | Basketball-Reference.com\n",
      "Hornets vs Cavaliers, October 22, 2021 | Basketball-Reference.com\n",
      "Raptors vs Celtics, October 22, 2021 | Basketball-Reference.com\n",
      "Nets vs 76ers, October 22, 2021 | Basketball-Reference.com\n",
      "Thunder vs Rockets, October 22, 2021 | Basketball-Reference.com\n",
      "Pelicans vs Bulls, October 22, 2021 | Basketball-Reference.com\n",
      "Spurs vs Nuggets, October 22, 2021 | Basketball-Reference.com\n",
      "Suns vs Lakers, October 22, 2021 | Basketball-Reference.com\n",
      "Jazz vs Kings, October 22, 2021 | Basketball-Reference.com\n",
      "Hawks vs Cavaliers, October 23, 2021 | Basketball-Reference.com\n",
      "Heat vs Pacers, October 23, 2021 | Basketball-Reference.com\n",
      "Mavericks vs Raptors, October 23, 2021 | Basketball-Reference.com\n",
      "Pistons vs Bulls, October 23, 2021 | Basketball-Reference.com\n",
      "Pelicans vs Timberwolves, October 23, 2021 | Basketball-Reference.com\n",
      "Bucks vs Spurs, October 23, 2021 | Basketball-Reference.com\n",
      "Suns vs Trail Blazers, October 23, 2021 | Basketball-Reference.com\n",
      "Grizzlies vs Clippers, October 23, 2021 | Basketball-Reference.com\n",
      "Hornets vs Nets, October 24, 2021 | Basketball-Reference.com\n",
      "Celtics vs Rockets, October 24, 2021 | Basketball-Reference.com\n",
      "Magic vs Knicks, October 24, 2021 | Basketball-Reference.com\n",
      "76ers vs Thunder, October 24, 2021 | Basketball-Reference.com\n",
      "Warriors vs Kings, October 24, 2021 | Basketball-Reference.com\n",
      "Grizzlies vs Lakers, October 24, 2021 | Basketball-Reference.com\n",
      "Celtics vs Hornets, October 25, 2021 | Basketball-Reference.com\n",
      "Bucks vs Pacers, October 25, 2021 | Basketball-Reference.com\n",
      "Bulls vs Raptors, October 25, 2021 | Basketball-Reference.com\n",
      "Magic vs Heat, October 25, 2021 | Basketball-Reference.com\n",
      "Wizards vs Nets, October 25, 2021 | Basketball-Reference.com\n"
     ]
    },
    {
     "name": "stderr",
     "output_type": "stream",
     "text": [
      "[WDM] - Downloading: 100%|██████████| 6.79M/6.79M [00:00<00:00, 28.9MB/s]\n"
     ]
    },
    {
     "name": "stdout",
     "output_type": "stream",
     "text": [
      "Pistons vs Hawks, October 25, 2021 | Basketball-Reference.com\n",
      "Pelicans vs Timberwolves, October 25, 2021 | Basketball-Reference.com\n",
      "Cavaliers vs Nuggets, October 25, 2021 | Basketball-Reference.com\n",
      "Trail Blazers vs Clippers, October 25, 2021 | Basketball-Reference.com\n",
      "76ers vs Knicks, October 26, 2021 | Basketball-Reference.com\n",
      "Warriors vs Thunder, October 26, 2021 | Basketball-Reference.com\n",
      "Lakers vs Spurs, October 26, 2021 | Basketball-Reference.com\n",
      "Rockets vs Mavericks, October 26, 2021 | Basketball-Reference.com\n",
      "Nuggets vs Jazz, October 26, 2021 | Basketball-Reference.com\n",
      "Hornets vs Magic, October 27, 2021 | Basketball-Reference.com\n",
      "Wizards vs Celtics, October 27, 2021 | Basketball-Reference.com\n",
      "Heat vs Nets, October 27, 2021 | Basketball-Reference.com\n",
      "Pacers vs Raptors, October 27, 2021 | Basketball-Reference.com\n",
      "Hawks vs Pelicans, October 27, 2021 | Basketball-Reference.com\n",
      "Timberwolves vs Bucks, October 27, 2021 | Basketball-Reference.com\n",
      "Lakers vs Thunder, October 27, 2021 | Basketball-Reference.com\n",
      "Kings vs Suns, October 27, 2021 | Basketball-Reference.com\n",
      "Grizzlies vs Trail Blazers, October 27, 2021 | Basketball-Reference.com\n",
      "Cavaliers vs Clippers, October 27, 2021 | Basketball-Reference.com\n",
      "Hawks vs Wizards, October 28, 2021 | Basketball-Reference.com\n",
      "Pistons vs 76ers, October 28, 2021 | Basketball-Reference.com\n",
      "Jazz vs Rockets, October 28, 2021 | Basketball-Reference.com\n",
      "Knicks vs Bulls, October 28, 2021 | Basketball-Reference.com\n",
      "Spurs vs Mavericks, October 28, 2021 | Basketball-Reference.com\n",
      "Grizzlies vs Warriors, October 28, 2021 | Basketball-Reference.com\n",
      "Magic vs Raptors, October 29, 2021 | Basketball-Reference.com\n",
      "Hornets vs Heat, October 29, 2021 | Basketball-Reference.com\n",
      "Pacers vs Nets, October 29, 2021 | Basketball-Reference.com\n",
      "Kings vs Pelicans, October 29, 2021 | Basketball-Reference.com\n",
      "Mavericks vs Nuggets, October 29, 2021 | Basketball-Reference.com\n",
      "Clippers vs Trail Blazers, October 29, 2021 | Basketball-Reference.com\n",
      "Cavaliers vs Lakers, October 29, 2021 | Basketball-Reference.com\n",
      "Celtics vs Wizards, October 30, 2021 | Basketball-Reference.com\n",
      "Magic vs Pistons, October 30, 2021 | Basketball-Reference.com\n",
      "Knicks vs Pelicans, October 30, 2021 | Basketball-Reference.com\n",
      "Raptors vs Pacers, October 30, 2021 | Basketball-Reference.com\n",
      "Hawks vs 76ers, October 30, 2021 | Basketball-Reference.com\n",
      "Jazz vs Bulls, October 30, 2021 | Basketball-Reference.com\n",
      "Heat vs Grizzlies, October 30, 2021 | Basketball-Reference.com\n",
      "Spurs vs Bucks, October 30, 2021 | Basketball-Reference.com\n",
      "Thunder vs Warriors, October 30, 2021 | Basketball-Reference.com\n",
      "Nuggets vs Timberwolves, October 30, 2021 | Basketball-Reference.com\n",
      "Cavaliers vs Suns, October 30, 2021 | Basketball-Reference.com\n",
      "Kings vs Mavericks, October 31, 2021 | Basketball-Reference.com\n",
      "Trail Blazers vs Hornets, October 31, 2021 | Basketball-Reference.com\n",
      "Jazz vs Bucks, October 31, 2021 | Basketball-Reference.com\n",
      "Pistons vs Nets, October 31, 2021 | Basketball-Reference.com\n",
      "Rockets vs Lakers, October 31, 2021 | Basketball-Reference.com\n"
     ]
    }
   ],
   "source": [
    "for f in standings_files:\n",
    "    filepath = os.path.join(standings_dir, f)\n",
    "    scrape_game(filepath)"
   ]
  },
  {
   "cell_type": "code",
   "execution_count": null,
   "metadata": {},
   "outputs": [],
   "source": []
  }
 ],
 "metadata": {
  "kernelspec": {
   "display_name": "general",
   "language": "python",
   "name": "python3"
  },
  "language_info": {
   "codemirror_mode": {
    "name": "ipython",
    "version": 3
   },
   "file_extension": ".py",
   "mimetype": "text/x-python",
   "name": "python",
   "nbconvert_exporter": "python",
   "pygments_lexer": "ipython3",
   "version": "3.10.4"
  },
  "orig_nbformat": 4
 },
 "nbformat": 4,
 "nbformat_minor": 2
}
